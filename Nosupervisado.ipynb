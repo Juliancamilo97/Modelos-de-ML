{
 "cells": [
  {
   "cell_type": "code",
   "execution_count": 1,
   "source": [
    "import pandas as pd\r\n",
    "import numpy as np\r\n",
    "from sklearn.cluster import KMeans\r\n",
    "from sklearn.preprocessing import LabelEncoder\r\n",
    "from sklearn.preprocessing import MinMaxScaler\r\n",
    "import seaborn as sns\r\n",
    "import matplotlib.pyplot as plt"
   ],
   "outputs": [],
   "metadata": {}
  },
  {
   "cell_type": "code",
   "execution_count": 3,
   "source": [
    "#Carga de data en archivo csv\r\n",
    "df= pd.read_csv('ModeloNoSupervisado.csv')\r\n",
    "print(df)"
   ],
   "outputs": [
    {
     "output_type": "stream",
     "name": "stdout",
     "text": [
      "      id  portafolio          y          x     ventas  canastas\n",
      "0      1       12965  10.924652 -74.817584  12.834683        63\n",
      "1      2       30422  10.958175 -74.792214  12.765690        87\n",
      "2      3        7790  11.030142 -74.871778  12.765690        68\n",
      "3      4        9790  10.934783 -74.813503  12.072541        63\n",
      "4      5       30651  10.931563 -74.810437  13.815511        86\n",
      "..   ...         ...        ...        ...        ...       ...\n",
      "716  717       25056  10.928018 -74.808330  13.815511        80\n",
      "717  718       17010  10.938586 -74.798813  12.765690        69\n",
      "718  719       19373  10.944976 -74.800435  12.765690        77\n",
      "719  720       20839  10.941326 -74.800389  12.072541        70\n",
      "720  721       14521  10.941730 -74.792107  12.072541        72\n",
      "\n",
      "[721 rows x 6 columns]\n"
     ]
    }
   ],
   "metadata": {}
  },
  {
   "cell_type": "code",
   "execution_count": 4,
   "source": [
    "df.info()"
   ],
   "outputs": [
    {
     "output_type": "stream",
     "name": "stdout",
     "text": [
      "<class 'pandas.core.frame.DataFrame'>\n",
      "RangeIndex: 721 entries, 0 to 720\n",
      "Data columns (total 6 columns):\n",
      " #   Column      Non-Null Count  Dtype  \n",
      "---  ------      --------------  -----  \n",
      " 0   id          721 non-null    int64  \n",
      " 1   portafolio  721 non-null    int64  \n",
      " 2   y           721 non-null    float64\n",
      " 3   x           721 non-null    float64\n",
      " 4   ventas      721 non-null    float64\n",
      " 5   canastas    721 non-null    int64  \n",
      "dtypes: float64(3), int64(3)\n",
      "memory usage: 33.9 KB\n"
     ]
    }
   ],
   "metadata": {}
  },
  {
   "cell_type": "code",
   "execution_count": 5,
   "source": [
    "df.describe()"
   ],
   "outputs": [
    {
     "output_type": "execute_result",
     "data": {
      "text/plain": [
       "              id    portafolio           y           x      ventas    canastas\n",
       "count  721.00000    721.000000  721.000000  721.000000  721.000000  721.000000\n",
       "mean   361.00000  15214.291262   10.953665  -74.809770   13.102517   63.570042\n",
       "std    208.27906  10801.912231    0.021347    0.019385    0.517831   17.703606\n",
       "min      1.00000      0.000000   10.922264  -74.871778   11.512925   25.000000\n",
       "25%    181.00000   5255.000000   10.935717  -74.824774   12.765690   43.000000\n",
       "50%    361.00000  15948.000000   10.951763  -74.810178   13.304686   70.000000\n",
       "75%    541.00000  26163.000000   10.967987  -74.798813   13.304686   78.000000\n",
       "max    721.00000  31374.000000   11.043528  -74.762737   14.038654   94.000000"
      ],
      "text/html": [
       "<div>\n",
       "<style scoped>\n",
       "    .dataframe tbody tr th:only-of-type {\n",
       "        vertical-align: middle;\n",
       "    }\n",
       "\n",
       "    .dataframe tbody tr th {\n",
       "        vertical-align: top;\n",
       "    }\n",
       "\n",
       "    .dataframe thead th {\n",
       "        text-align: right;\n",
       "    }\n",
       "</style>\n",
       "<table border=\"1\" class=\"dataframe\">\n",
       "  <thead>\n",
       "    <tr style=\"text-align: right;\">\n",
       "      <th></th>\n",
       "      <th>id</th>\n",
       "      <th>portafolio</th>\n",
       "      <th>y</th>\n",
       "      <th>x</th>\n",
       "      <th>ventas</th>\n",
       "      <th>canastas</th>\n",
       "    </tr>\n",
       "  </thead>\n",
       "  <tbody>\n",
       "    <tr>\n",
       "      <th>count</th>\n",
       "      <td>721.00000</td>\n",
       "      <td>721.000000</td>\n",
       "      <td>721.000000</td>\n",
       "      <td>721.000000</td>\n",
       "      <td>721.000000</td>\n",
       "      <td>721.000000</td>\n",
       "    </tr>\n",
       "    <tr>\n",
       "      <th>mean</th>\n",
       "      <td>361.00000</td>\n",
       "      <td>15214.291262</td>\n",
       "      <td>10.953665</td>\n",
       "      <td>-74.809770</td>\n",
       "      <td>13.102517</td>\n",
       "      <td>63.570042</td>\n",
       "    </tr>\n",
       "    <tr>\n",
       "      <th>std</th>\n",
       "      <td>208.27906</td>\n",
       "      <td>10801.912231</td>\n",
       "      <td>0.021347</td>\n",
       "      <td>0.019385</td>\n",
       "      <td>0.517831</td>\n",
       "      <td>17.703606</td>\n",
       "    </tr>\n",
       "    <tr>\n",
       "      <th>min</th>\n",
       "      <td>1.00000</td>\n",
       "      <td>0.000000</td>\n",
       "      <td>10.922264</td>\n",
       "      <td>-74.871778</td>\n",
       "      <td>11.512925</td>\n",
       "      <td>25.000000</td>\n",
       "    </tr>\n",
       "    <tr>\n",
       "      <th>25%</th>\n",
       "      <td>181.00000</td>\n",
       "      <td>5255.000000</td>\n",
       "      <td>10.935717</td>\n",
       "      <td>-74.824774</td>\n",
       "      <td>12.765690</td>\n",
       "      <td>43.000000</td>\n",
       "    </tr>\n",
       "    <tr>\n",
       "      <th>50%</th>\n",
       "      <td>361.00000</td>\n",
       "      <td>15948.000000</td>\n",
       "      <td>10.951763</td>\n",
       "      <td>-74.810178</td>\n",
       "      <td>13.304686</td>\n",
       "      <td>70.000000</td>\n",
       "    </tr>\n",
       "    <tr>\n",
       "      <th>75%</th>\n",
       "      <td>541.00000</td>\n",
       "      <td>26163.000000</td>\n",
       "      <td>10.967987</td>\n",
       "      <td>-74.798813</td>\n",
       "      <td>13.304686</td>\n",
       "      <td>78.000000</td>\n",
       "    </tr>\n",
       "    <tr>\n",
       "      <th>max</th>\n",
       "      <td>721.00000</td>\n",
       "      <td>31374.000000</td>\n",
       "      <td>11.043528</td>\n",
       "      <td>-74.762737</td>\n",
       "      <td>14.038654</td>\n",
       "      <td>94.000000</td>\n",
       "    </tr>\n",
       "  </tbody>\n",
       "</table>\n",
       "</div>"
      ]
     },
     "metadata": {},
     "execution_count": 5
    }
   ],
   "metadata": {}
  },
  {
   "cell_type": "code",
   "execution_count": 6,
   "source": [
    "indices = [5, 26, 176, 392, 467, 567,670]\r\n",
    "muestras = pd.DataFrame(df.loc[indices], \r\n",
    "                       columns = df.keys()).reset_index(drop = True)\r\n",
    "df = df.drop(indices, axis = 0)\r\n",
    "\r\n",
    "#Eliminamos las columnas de región y canal \r\n",
    "df = df.drop(['id'], axis = 1)\r\n",
    "muestras = muestras.drop(['id'], axis = 1)"
   ],
   "outputs": [],
   "metadata": {}
  },
  {
   "cell_type": "code",
   "execution_count": 9,
   "source": [
    "#Se realiza el escalamiento de los datos\r\n",
    "from sklearn import preprocessing\r\n",
    "data_escalada = preprocessing.Normalizer().fit_transform(df)\r\n",
    "muestras_escalada = preprocessing.Normalizer().fit_transform(muestras)"
   ],
   "outputs": [],
   "metadata": {}
  },
  {
   "cell_type": "code",
   "execution_count": 10,
   "source": [
    "### ANÁLISIS DE MACHINE LEARNING ###\r\n",
    "from sklearn.cluster import KMeans\r\n",
    "#Se determina las variables a evaluar\r\n",
    "X = data_escalada.copy()"
   ],
   "outputs": [],
   "metadata": {}
  },
  {
   "cell_type": "code",
   "execution_count": 11,
   "source": [
    "## Hallar el valor óptimo de K ##\r\n",
    "#Se aplicará el método de codo para hallar K\r\n",
    "#Se calcula el algoritmo de agrupación para diferentes valores de K\r\n",
    "inercia = [] \r\n",
    "for i in range(1, 20):\r\n",
    "    algoritmo = KMeans(n_clusters = i, init = 'k-means++', \r\n",
    "                       max_iter = 300, n_init = 10)\r\n",
    "    algoritmo.fit(X)\r\n",
    "    #Para cada K, se calcula la suma total del cuadrado dentro del clúster\r\n",
    "    inercia.append(algoritmo.inertia_)"
   ],
   "outputs": [],
   "metadata": {}
  },
  {
   "cell_type": "code",
   "execution_count": 21,
   "source": [
    "## Se aplica el algoritmo de clustering ##\r\n",
    "#Se define el algoritmo junto con el valor de K\r\n",
    "algoritmo = KMeans(n_clusters = 6, init = 'k-means++', \r\n",
    "                   max_iter = 300, n_init = 10)"
   ],
   "outputs": [],
   "metadata": {}
  },
  {
   "cell_type": "code",
   "execution_count": 22,
   "source": [
    "#Se entrena el algoritmo\r\n",
    "algoritmo.fit(X)\r\n",
    "#Se obtiene los datos de los centroides y las etiquetas\r\n",
    "centroides, etiquetas = algoritmo.cluster_centers_, algoritmo.labels_"
   ],
   "outputs": [],
   "metadata": {}
  },
  {
   "cell_type": "code",
   "execution_count": 23,
   "source": [
    "#Utilicemos los datos de muestras y verifiquemos en que cluster se encuentran\r\n",
    "muestra_prediccion = algoritmo.predict(muestras_escalada)"
   ],
   "outputs": [],
   "metadata": {}
  },
  {
   "cell_type": "code",
   "execution_count": 25,
   "source": [
    "    \r\n",
    "### GRAFICAR LOS DATOS JUNTO A LOS RESULTADOS ###\r\n",
    "# Se aplica la reducción de dimensionalidad a los datos\r\n",
    "from sklearn.decomposition import PCA\r\n",
    "modelo_pca = PCA(n_components = 2)\r\n",
    "modelo_pca.fit(X)\r\n",
    "pca = modelo_pca.transform(X) \r\n",
    "#Se aplicar la reducción de dimsensionalidad a los centroides\r\n",
    "centroides_pca = modelo_pca.transform(centroides)\r\n",
    "# Se define los colores de cada clúster\r\n",
    "colores = ['blue', 'red', 'green', 'orange', 'gray', 'brown']\r\n",
    "#Se asignan los colores a cada clústeres\r\n",
    "colores_cluster = [colores[etiquetas[i]] for i in range(len(pca))]\r\n",
    "#Se grafica los componentes PCA\r\n",
    "plt.scatter(pca[:, 0], pca[:, 1], c = colores_cluster, \r\n",
    "            marker = 'o',alpha = 0.4)\r\n",
    "#Se grafican los centroides\r\n",
    "plt.scatter(centroides_pca[:, 0], centroides_pca[:, 1],\r\n",
    "            marker = 'x', s = 100, linewidths = 3, c = colores)\r\n",
    "#Se guadan los datos en una variable para que sea fácil escribir el código\r\n",
    "xvector = modelo_pca.components_[0] * max(pca[:,0])\r\n",
    "yvector = modelo_pca.components_[1] * max(pca[:,1])\r\n",
    "columnas = df.columns\r\n",
    "#Se grafican los nombres de los clústeres con la distancia del vector\r\n",
    "for i in range(len(columnas)):\r\n",
    "    #Se colocan los nombres\r\n",
    "    plt.text(xvector[i], yvector[i], list(columnas)[i], color='black', \r\n",
    "             alpha=0.75)\r\n"
   ],
   "outputs": [
    {
     "output_type": "display_data",
     "data": {
      "text/plain": [
       "<Figure size 432x288 with 1 Axes>"
      ],
      "image/png": "[encoded data removed]"
     },
     "metadata": {
      "needs_background": "light"
     }
    }
   ],
   "metadata": {}
  },
  {
   "cell_type": "code",
   "execution_count": 26,
   "source": [
    "#Conteste las siguientes preguntas como código comentariado en su script:\r\n",
    "#a. ¿Cuántos clusters sugiere calcular para este data set?\r\n",
    "# Se han utilizado seis clusters, para una mejor forma de ver los datos, los clusters que se sugieren depende del analisis que se dan sobre el metodo del codo\r\n",
    "#b. ¿Cómo puede validar la coherencia de sus clusters?\r\n",
    "# Se valida con una lista aleatoria, esta se puede dar o se puede hacer una función para ver datos aleatorios sobre estos clusters"
   ],
   "outputs": [],
   "metadata": {}
  },
  {
   "cell_type": "code",
   "execution_count": 27,
   "source": [
    "sns.pairplot(df, palette='Dark2')"
   ],
   "outputs": [],
   "metadata": {}
  },
  {
   "cell_type": "code",
   "execution_count": null,
   "source": [],
   "outputs": [],
   "metadata": {}
  }
 ],
 "metadata": {
  "orig_nbformat": 4,
  "language_info": {
   "name": "python",
   "version": "3.9.4",
   "mimetype": "text/x-python",
   "codemirror_mode": {
    "name": "ipython",
    "version": 3
   },
   "pygments_lexer": "ipython3",
   "nbconvert_exporter": "python",
   "file_extension": ".py"
  },
  "kernelspec": {
   "name": "python3",
   "display_name": "Python 3.9.4 64-bit"
  },
  "interpreter": {
   "hash": "2bde8dd61de475d48b8c077da0d39c6c598f14c3168f941361fb75c6371caa43"
  }
 },
 "nbformat": 4,
 "nbformat_minor": 2
}