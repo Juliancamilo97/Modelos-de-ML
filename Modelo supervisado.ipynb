{
 "cells": [
  {
   "cell_type": "code",
   "execution_count": 1,
   "source": [
    "import pandas as pd\r\n",
    "import numpy as np\r\n",
    "from sklearn.linear_model import LogisticRegression\r\n",
    "from sklearn.model_selection import train_test_split\r\n",
    "from sklearn.metrics import confusion_matrix\r\n",
    "from sklearn.metrics import accuracy_score\r\n",
    "from sklearn.preprocessing import StandardScaler\r\n",
    "from sklearn import metrics\r\n",
    "from sklearn.metrics import confusion_matrix"
   ],
   "outputs": [],
   "metadata": {}
  },
  {
   "cell_type": "code",
   "execution_count": 2,
   "source": [
    "\r\n",
    "#Carga de data en archivo csv\r\n",
    "df= pd.read_csv('ModeloSupervisado.csv')\r\n",
    "print(df)"
   ],
   "outputs": [
    {
     "output_type": "stream",
     "name": "stdout",
     "text": [
      "        Id_Tabla Levdireccion Levdirnum Levpropietario Levtelefono  \\\n",
      "0              1         100%       93%            43%          0%   \n",
      "1              2         100%      100%            74%          0%   \n",
      "2              3          85%       90%            54%          0%   \n",
      "3              4          81%       83%            46%          0%   \n",
      "4              5         100%      100%            50%          0%   \n",
      "...          ...          ...       ...            ...         ...   \n",
      "107034    107035          70%       78%            41%          0%   \n",
      "107035    107036          77%       78%            43%          0%   \n",
      "107036    107037          86%       85%            52%          0%   \n",
      "107037    107038          77%       83%            43%          0%   \n",
      "107038    107039          89%       79%            44%          0%   \n",
      "\n",
      "       Lev_Sticker Levnombreestablecimiento  DistanciaEnMetros  Match  \n",
      "0               0%                     100%                NaN      1  \n",
      "1               0%                      39%                NaN      1  \n",
      "2               0%                     100%               21.0      1  \n",
      "3               0%                     100%                2.0      1  \n",
      "4               0%                      95%               28.0      1  \n",
      "...            ...                      ...                ...    ...  \n",
      "107034          0%                      50%               14.0      0  \n",
      "107035          0%                      58%               14.0      0  \n",
      "107036          0%                      55%               44.0      0  \n",
      "107037          0%                      56%               13.0      0  \n",
      "107038          0%                      47%               42.0      0  \n",
      "\n",
      "[107039 rows x 9 columns]\n"
     ]
    }
   ],
   "metadata": {}
  },
  {
   "cell_type": "code",
   "execution_count": 3,
   "source": [
    "#Info sobre la data\r\n",
    "df.info()"
   ],
   "outputs": [
    {
     "output_type": "stream",
     "name": "stdout",
     "text": [
      "<class 'pandas.core.frame.DataFrame'>\n",
      "RangeIndex: 107039 entries, 0 to 107038\n",
      "Data columns (total 9 columns):\n",
      " #   Column                    Non-Null Count   Dtype  \n",
      "---  ------                    --------------   -----  \n",
      " 0   Id_Tabla                  107039 non-null  int64  \n",
      " 1   Levdireccion              107039 non-null  object \n",
      " 2   Levdirnum                 107039 non-null  object \n",
      " 3   Levpropietario            107039 non-null  object \n",
      " 4   Levtelefono               107039 non-null  object \n",
      " 5   Lev_Sticker               107039 non-null  object \n",
      " 6   Levnombreestablecimiento  107022 non-null  object \n",
      " 7   DistanciaEnMetros         101851 non-null  float64\n",
      " 8   Match                     107039 non-null  int64  \n",
      "dtypes: float64(1), int64(2), object(6)\n",
      "memory usage: 7.3+ MB\n"
     ]
    }
   ],
   "metadata": {}
  },
  {
   "cell_type": "code",
   "execution_count": 4,
   "source": [
    "#Se ve cuantos espacios vacios existen en cada columna\r\n",
    "df.isnull().sum()"
   ],
   "outputs": [
    {
     "output_type": "execute_result",
     "data": {
      "text/plain": [
       "Id_Tabla                       0\n",
       "Levdireccion                   0\n",
       "Levdirnum                      0\n",
       "Levpropietario                 0\n",
       "Levtelefono                    0\n",
       "Lev_Sticker                    0\n",
       "Levnombreestablecimiento      17\n",
       "DistanciaEnMetros           5188\n",
       "Match                          0\n",
       "dtype: int64"
      ]
     },
     "metadata": {},
     "execution_count": 4
    }
   ],
   "metadata": {}
  },
  {
   "cell_type": "code",
   "execution_count": 5,
   "source": [
    "#Se imprime los varoles que puede tomar como enteros\r\n",
    "df.describe()"
   ],
   "outputs": [
    {
     "output_type": "execute_result",
     "data": {
      "text/plain": [
       "            Id_Tabla  DistanciaEnMetros          Match\n",
       "count  107039.000000      101851.000000  107039.000000\n",
       "mean    53520.000000          25.676714       0.065733\n",
       "std     30899.642069          12.261005       0.247816\n",
       "min         1.000000           1.000000       0.000000\n",
       "25%     26760.500000          16.000000       0.000000\n",
       "50%     53520.000000          27.000000       0.000000\n",
       "75%     80279.500000          36.000000       0.000000\n",
       "max    107039.000000          45.000000       1.000000"
      ],
      "text/html": [
       "<div>\n",
       "<style scoped>\n",
       "    .dataframe tbody tr th:only-of-type {\n",
       "        vertical-align: middle;\n",
       "    }\n",
       "\n",
       "    .dataframe tbody tr th {\n",
       "        vertical-align: top;\n",
       "    }\n",
       "\n",
       "    .dataframe thead th {\n",
       "        text-align: right;\n",
       "    }\n",
       "</style>\n",
       "<table border=\"1\" class=\"dataframe\">\n",
       "  <thead>\n",
       "    <tr style=\"text-align: right;\">\n",
       "      <th></th>\n",
       "      <th>Id_Tabla</th>\n",
       "      <th>DistanciaEnMetros</th>\n",
       "      <th>Match</th>\n",
       "    </tr>\n",
       "  </thead>\n",
       "  <tbody>\n",
       "    <tr>\n",
       "      <th>count</th>\n",
       "      <td>107039.000000</td>\n",
       "      <td>101851.000000</td>\n",
       "      <td>107039.000000</td>\n",
       "    </tr>\n",
       "    <tr>\n",
       "      <th>mean</th>\n",
       "      <td>53520.000000</td>\n",
       "      <td>25.676714</td>\n",
       "      <td>0.065733</td>\n",
       "    </tr>\n",
       "    <tr>\n",
       "      <th>std</th>\n",
       "      <td>30899.642069</td>\n",
       "      <td>12.261005</td>\n",
       "      <td>0.247816</td>\n",
       "    </tr>\n",
       "    <tr>\n",
       "      <th>min</th>\n",
       "      <td>1.000000</td>\n",
       "      <td>1.000000</td>\n",
       "      <td>0.000000</td>\n",
       "    </tr>\n",
       "    <tr>\n",
       "      <th>25%</th>\n",
       "      <td>26760.500000</td>\n",
       "      <td>16.000000</td>\n",
       "      <td>0.000000</td>\n",
       "    </tr>\n",
       "    <tr>\n",
       "      <th>50%</th>\n",
       "      <td>53520.000000</td>\n",
       "      <td>27.000000</td>\n",
       "      <td>0.000000</td>\n",
       "    </tr>\n",
       "    <tr>\n",
       "      <th>75%</th>\n",
       "      <td>80279.500000</td>\n",
       "      <td>36.000000</td>\n",
       "      <td>0.000000</td>\n",
       "    </tr>\n",
       "    <tr>\n",
       "      <th>max</th>\n",
       "      <td>107039.000000</td>\n",
       "      <td>45.000000</td>\n",
       "      <td>1.000000</td>\n",
       "    </tr>\n",
       "  </tbody>\n",
       "</table>\n",
       "</div>"
      ]
     },
     "metadata": {},
     "execution_count": 5
    }
   ],
   "metadata": {}
  },
  {
   "cell_type": "code",
   "execution_count": 6,
   "source": [
    "#Se saca promedio en Distancia para rellenar espacios vacios\r\n",
    "promedio= int(df[\"DistanciaEnMetros\"].mean())\r\n",
    "#Se rellena espacios vacios de Distancia\r\n",
    "df[\"DistanciaEnMetros\"]=(df[\"DistanciaEnMetros\"].replace(np.NaN, promedio)).astype(int)"
   ],
   "outputs": [],
   "metadata": {}
  },
  {
   "cell_type": "code",
   "execution_count": 7,
   "source": [
    "#Las columnas que se toman como objetos por el signo \"%\" se le quita para poder convertilo en entero\r\n",
    "df['Levnombreestablecimiento'] = df['Levnombreestablecimiento'].str.rstrip('%').astype('float') / 100.0\r\n",
    "#Se saca el promedio para poder rellenar la columna de nombres establecimiento y se rellena\r\n",
    "promedio1=int(df['Levnombreestablecimiento'].mean())\r\n",
    "df['Levnombreestablecimiento']=df['Levnombreestablecimiento'].replace(np.NaN, promedio1)\r\n",
    "#Se devuelve el valor de porcentaje a cada columna que lo tiene\r\n",
    "df['Levnombreestablecimiento']=round(df['Levnombreestablecimiento']*100).astype(int)\r\n",
    "df['Levnombreestablecimiento']=df['Levnombreestablecimiento'].astype(str) + '%'"
   ],
   "outputs": [],
   "metadata": {}
  },
  {
   "cell_type": "code",
   "execution_count": 8,
   "source": [
    "df.info()"
   ],
   "outputs": [
    {
     "output_type": "stream",
     "name": "stdout",
     "text": [
      "<class 'pandas.core.frame.DataFrame'>\n",
      "RangeIndex: 107039 entries, 0 to 107038\n",
      "Data columns (total 9 columns):\n",
      " #   Column                    Non-Null Count   Dtype \n",
      "---  ------                    --------------   ----- \n",
      " 0   Id_Tabla                  107039 non-null  int64 \n",
      " 1   Levdireccion              107039 non-null  object\n",
      " 2   Levdirnum                 107039 non-null  object\n",
      " 3   Levpropietario            107039 non-null  object\n",
      " 4   Levtelefono               107039 non-null  object\n",
      " 5   Lev_Sticker               107039 non-null  object\n",
      " 6   Levnombreestablecimiento  107039 non-null  object\n",
      " 7   DistanciaEnMetros         107039 non-null  int32 \n",
      " 8   Match                     107039 non-null  int64 \n",
      "dtypes: int32(1), int64(2), object(6)\n",
      "memory usage: 6.9+ MB\n"
     ]
    }
   ],
   "metadata": {}
  },
  {
   "cell_type": "code",
   "execution_count": 10,
   "source": [
    "#Se ve cuantos espacios vacios existen en cada columna\r\n",
    "df.isnull().sum()"
   ],
   "outputs": [
    {
     "output_type": "execute_result",
     "data": {
      "text/plain": [
       "Id_Tabla                    0\n",
       "Levdireccion                0\n",
       "Levdirnum                   0\n",
       "Levpropietario              0\n",
       "Levtelefono                 0\n",
       "Lev_Sticker                 0\n",
       "Levnombreestablecimiento    0\n",
       "DistanciaEnMetros           0\n",
       "Match                       0\n",
       "dtype: int64"
      ]
     },
     "metadata": {},
     "execution_count": 10
    }
   ],
   "metadata": {}
  },
  {
   "cell_type": "code",
   "execution_count": 11,
   "source": [
    "#Se definen las variables dependientes e independietes\r\n",
    "#X = df[['Levdireccion','Levdirnum','Levpropietario','Levtelefono','Lev_Sticker','Levnombreestablecimiento','DistanciaEnMetros']]\r\n",
    "X = df[['DistanciaEnMetros']]\r\n",
    "y = df[['Match']]\r\n",
    "\r\n",
    "#Se entrena el algoritmo\r\n",
    "X_train , X_test , y_train , y_test = train_test_split(X, y, test_size = 0.2)\r\n",
    "\r\n",
    "#Se escalan todos los datos\r\n",
    "escalar= StandardScaler()\r\n",
    "X_train= escalar.fit_transform(X_train)\r\n",
    "X_test= escalar.transform(X_test)"
   ],
   "outputs": [],
   "metadata": {}
  },
  {
   "cell_type": "code",
   "execution_count": 12,
   "source": [
    "#Definimos el algotirmo\r\n",
    "\r\n",
    "algoritmo= LogisticRegression()\r\n",
    "\r\n",
    "#Entrenamiento del modelo\r\n",
    "algoritmo.fit(X_train,y_train)\r\n",
    "\r\n",
    "#Realizar una predicción\r\n",
    "y_pred= algoritmo.predict(X_test)\r\n",
    "\r\n",
    "#Se ve la precisión del modelo\r\n",
    "precision=algoritmo.score(X_train,y_train)\r\n",
    "print('Presición del modelo', precision)\r\n",
    "print('MSE:', metrics.mean_squared_error(y_test['Match'],y_pred))\r\n",
    "\r\n",
    "Matriz = confusion_matrix(y_test,y_pred)\r\n",
    "print('Matriz de confusión: ')\r\n",
    "print(Matriz)\r\n",
    "\r\n",
    "#Calculo la exactitud del modelo\r\n",
    "exactitud= accuracy_score(y_test,y_pred)\r\n",
    "print('La exactitud del modelo es: ', exactitud)"
   ],
   "outputs": [
    {
     "output_type": "stream",
     "name": "stdout",
     "text": [
      "Presición del modelo 0.9338323737898658\n",
      "MSE: 0.0639947683109118\n",
      "Matriz de confusión: \n",
      "[[20038     0]\n",
      " [ 1370     0]]\n",
      "La exactitud del modelo es:  0.9360052316890882\n"
     ]
    },
    {
     "output_type": "stream",
     "name": "stderr",
     "text": [
      "C:\\Users\\JULIAN CAMILO\\AppData\\Local\\Programs\\Python\\Python39\\lib\\site-packages\\sklearn\\utils\\validation.py:63: DataConversionWarning: A column-vector y was passed when a 1d array was expected. Please change the shape of y to (n_samples, ), for example using ravel().\n",
      "  return f(*args, **kwargs)\n"
     ]
    }
   ],
   "metadata": {}
  },
  {
   "cell_type": "code",
   "execution_count": 13,
   "source": [
    "#a. ¿Cuáles con las variables más importantes para el modelo?\r\n",
    "#La variable que concidero más relevante es distancia en metros, además que es la única que se esta tomando sin un porcentaje\r\n",
    "#b. ¿Confiaría en la predicción de su modelo propuesto según los cálculos del punto 5?\r\n",
    "#Pensaría que es una buena predicción, aunque por la matriz de confusión se estan teniendo valores erroneos al creen que todos los datos son cero"
   ],
   "outputs": [],
   "metadata": {}
  },
  {
   "cell_type": "code",
   "execution_count": null,
   "source": [],
   "outputs": [],
   "metadata": {}
  }
 ],
 "metadata": {
  "orig_nbformat": 4,
  "language_info": {
   "name": "python",
   "version": "3.9.4",
   "mimetype": "text/x-python",
   "codemirror_mode": {
    "name": "ipython",
    "version": 3
   },
   "pygments_lexer": "ipython3",
   "nbconvert_exporter": "python",
   "file_extension": ".py"
  },
  "kernelspec": {
   "name": "python3",
   "display_name": "Python 3.9.4 64-bit"
  },
  "interpreter": {
   "hash": "2bde8dd61de475d48b8c077da0d39c6c598f14c3168f941361fb75c6371caa43"
  }
 },
 "nbformat": 4,
 "nbformat_minor": 2
}